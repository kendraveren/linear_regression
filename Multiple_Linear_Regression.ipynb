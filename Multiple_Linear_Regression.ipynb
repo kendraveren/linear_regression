{
  "nbformat": 4,
  "nbformat_minor": 0,
  "metadata": {
    "colab": {
      "name": "Multiple-Linear-Regression.ipynb",
      "provenance": [],
      "authorship_tag": "ABX9TyPCxj0g0QISRJX6B1WxaO3B",
      "include_colab_link": true
    },
    "kernelspec": {
      "name": "python3",
      "display_name": "Python 3"
    }
  },
  "cells": [
    {
      "cell_type": "markdown",
      "metadata": {
        "id": "view-in-github",
        "colab_type": "text"
      },
      "source": [
        "<a href=\"https://colab.research.google.com/github/kendraveren/linear_regression/blob/main/Multiple_Linear_Regression.ipynb\" target=\"_parent\"><img src=\"https://colab.research.google.com/assets/colab-badge.svg\" alt=\"Open In Colab\"/></a>"
      ]
    },
    {
      "cell_type": "markdown",
      "metadata": {
        "id": "pMSiCRP9NsTW"
      },
      "source": [
        "Multiple Linear Regression / Kendra Veren Widya A / DS0213"
      ]
    },
    {
      "cell_type": "markdown",
      "metadata": {
        "id": "SpTRK9wCO5fS"
      },
      "source": [
        "Multiple Linear Regression atau Analisis Regresi Linear Berganda merupakan analisis statistik yang digunakan untuk melihat pengaruh dari beberapa variabel bebas terhadap variabel terikat. Semakin banyak faktor yang mempengaruhi sebuah regresi, maka semakin baik pula sebuah model dalam melakukan prediksi. Berikut merupakan persamaan dari analisis regresi linear berganda :\n",
        "\n",
        "y = a + b1x1 + b2x2 + …… + bnxn\n",
        "\n",
        "dimana :\n",
        "\n",
        "y = variabel terikat / variabel yang akan diteliti\n",
        "\n",
        "a = konstanta\n",
        "\n",
        "x1 ... xn = variabel bebas\n",
        "\n",
        "b1 ... bn = koefisien variabel bebas\n",
        "\n",
        "Berikut ini contoh analisis regresi linear berganda yakni pengaruh dan hubungan harga dan pemasangan iklan (variabel bebas) terhadap penjualan pie (variabel terikat)."
      ]
    },
    {
      "cell_type": "code",
      "metadata": {
        "id": "gZ7C-JGfVzCZ"
      },
      "source": [
        "import pandas as pd\n",
        "import statsmodels.api as sm\n",
        "import numpy as np\n",
        "import seaborn as sns\n",
        "import matplotlib.pyplot as plt\n",
        "import warnings\n",
        "from sklearn import linear_model\n",
        "\n",
        "warnings.filterwarnings('ignore')\n",
        "plt.rcParams['figure.figsize'] = (7, 7)\n",
        "plt.style.use('ggplot')"
      ],
      "execution_count": 12,
      "outputs": []
    },
    {
      "cell_type": "code",
      "metadata": {
        "id": "QDcS5d-IWMu3",
        "outputId": "065359ee-a6e4-4a4b-b275-2375333e39eb",
        "colab": {
          "base_uri": "https://localhost:8080/",
          "height": 509
        }
      },
      "source": [
        "# Import Dataset\n",
        "df = pd.read_csv('https://raw.githubusercontent.com/kendraveren/linear_regression/main/data/pie-sales.csv', sep =\";\")\n",
        "df"
      ],
      "execution_count": 24,
      "outputs": [
        {
          "output_type": "execute_result",
          "data": {
            "text/html": [
              "<div>\n",
              "<style scoped>\n",
              "    .dataframe tbody tr th:only-of-type {\n",
              "        vertical-align: middle;\n",
              "    }\n",
              "\n",
              "    .dataframe tbody tr th {\n",
              "        vertical-align: top;\n",
              "    }\n",
              "\n",
              "    .dataframe thead th {\n",
              "        text-align: right;\n",
              "    }\n",
              "</style>\n",
              "<table border=\"1\" class=\"dataframe\">\n",
              "  <thead>\n",
              "    <tr style=\"text-align: right;\">\n",
              "      <th></th>\n",
              "      <th>week</th>\n",
              "      <th>pie_sales</th>\n",
              "      <th>price</th>\n",
              "      <th>advertising</th>\n",
              "    </tr>\n",
              "  </thead>\n",
              "  <tbody>\n",
              "    <tr>\n",
              "      <th>0</th>\n",
              "      <td>1</td>\n",
              "      <td>350</td>\n",
              "      <td>5.5</td>\n",
              "      <td>3.3</td>\n",
              "    </tr>\n",
              "    <tr>\n",
              "      <th>1</th>\n",
              "      <td>2</td>\n",
              "      <td>460</td>\n",
              "      <td>7.5</td>\n",
              "      <td>3.3</td>\n",
              "    </tr>\n",
              "    <tr>\n",
              "      <th>2</th>\n",
              "      <td>3</td>\n",
              "      <td>350</td>\n",
              "      <td>8.0</td>\n",
              "      <td>3.0</td>\n",
              "    </tr>\n",
              "    <tr>\n",
              "      <th>3</th>\n",
              "      <td>4</td>\n",
              "      <td>430</td>\n",
              "      <td>8.0</td>\n",
              "      <td>4.5</td>\n",
              "    </tr>\n",
              "    <tr>\n",
              "      <th>4</th>\n",
              "      <td>5</td>\n",
              "      <td>350</td>\n",
              "      <td>6.8</td>\n",
              "      <td>3.0</td>\n",
              "    </tr>\n",
              "    <tr>\n",
              "      <th>5</th>\n",
              "      <td>6</td>\n",
              "      <td>380</td>\n",
              "      <td>7.5</td>\n",
              "      <td>4.0</td>\n",
              "    </tr>\n",
              "    <tr>\n",
              "      <th>6</th>\n",
              "      <td>7</td>\n",
              "      <td>430</td>\n",
              "      <td>4.5</td>\n",
              "      <td>3.0</td>\n",
              "    </tr>\n",
              "    <tr>\n",
              "      <th>7</th>\n",
              "      <td>8</td>\n",
              "      <td>470</td>\n",
              "      <td>6.4</td>\n",
              "      <td>3.7</td>\n",
              "    </tr>\n",
              "    <tr>\n",
              "      <th>8</th>\n",
              "      <td>9</td>\n",
              "      <td>450</td>\n",
              "      <td>7.0</td>\n",
              "      <td>3.5</td>\n",
              "    </tr>\n",
              "    <tr>\n",
              "      <th>9</th>\n",
              "      <td>10</td>\n",
              "      <td>490</td>\n",
              "      <td>5.0</td>\n",
              "      <td>4.0</td>\n",
              "    </tr>\n",
              "    <tr>\n",
              "      <th>10</th>\n",
              "      <td>11</td>\n",
              "      <td>340</td>\n",
              "      <td>7.2</td>\n",
              "      <td>3.5</td>\n",
              "    </tr>\n",
              "    <tr>\n",
              "      <th>11</th>\n",
              "      <td>12</td>\n",
              "      <td>300</td>\n",
              "      <td>7.9</td>\n",
              "      <td>3.2</td>\n",
              "    </tr>\n",
              "    <tr>\n",
              "      <th>12</th>\n",
              "      <td>13</td>\n",
              "      <td>440</td>\n",
              "      <td>5.9</td>\n",
              "      <td>4.0</td>\n",
              "    </tr>\n",
              "    <tr>\n",
              "      <th>13</th>\n",
              "      <td>14</td>\n",
              "      <td>450</td>\n",
              "      <td>5.0</td>\n",
              "      <td>3.5</td>\n",
              "    </tr>\n",
              "    <tr>\n",
              "      <th>14</th>\n",
              "      <td>15</td>\n",
              "      <td>300</td>\n",
              "      <td>7.0</td>\n",
              "      <td>2.7</td>\n",
              "    </tr>\n",
              "  </tbody>\n",
              "</table>\n",
              "</div>"
            ],
            "text/plain": [
              "    week  pie_sales  price  advertising\n",
              "0      1        350    5.5          3.3\n",
              "1      2        460    7.5          3.3\n",
              "2      3        350    8.0          3.0\n",
              "3      4        430    8.0          4.5\n",
              "4      5        350    6.8          3.0\n",
              "5      6        380    7.5          4.0\n",
              "6      7        430    4.5          3.0\n",
              "7      8        470    6.4          3.7\n",
              "8      9        450    7.0          3.5\n",
              "9     10        490    5.0          4.0\n",
              "10    11        340    7.2          3.5\n",
              "11    12        300    7.9          3.2\n",
              "12    13        440    5.9          4.0\n",
              "13    14        450    5.0          3.5\n",
              "14    15        300    7.0          2.7"
            ]
          },
          "metadata": {
            "tags": []
          },
          "execution_count": 24
        }
      ]
    },
    {
      "cell_type": "code",
      "metadata": {
        "id": "oon6e5EtW88C",
        "outputId": "34f01a46-8a28-4084-969c-43b1331cd372",
        "colab": {
          "base_uri": "https://localhost:8080/",
          "height": 463
        }
      },
      "source": [
        "# Visualize the data using scatterplot\n",
        "sns.scatterplot(x=\"price\", y=\"pie_sales\", data= df, color = 'blue')"
      ],
      "execution_count": 25,
      "outputs": [
        {
          "output_type": "execute_result",
          "data": {
            "text/plain": [
              "<matplotlib.axes._subplots.AxesSubplot at 0x7fba38763240>"
            ]
          },
          "metadata": {
            "tags": []
          },
          "execution_count": 25
        },
        {
          "output_type": "display_data",
          "data": {
            "image/png": "[encoded data removed]",
            "text/plain": [
              "<Figure size 504x504 with 1 Axes>"
            ]
          },
          "metadata": {
            "tags": []
          }
        }
      ]
    },
    {
      "cell_type": "code",
      "metadata": {
        "id": "ubfNlMfBXSML",
        "outputId": "87f852fd-0b93-4118-8418-19f175b9aa9a",
        "colab": {
          "base_uri": "https://localhost:8080/",
          "height": 463
        }
      },
      "source": [
        "# Visualize the data using scatterplot\n",
        "sns.scatterplot(x=\"advertising\", y=\"pie_sales\", data= df, color = 'purple')"
      ],
      "execution_count": 26,
      "outputs": [
        {
          "output_type": "execute_result",
          "data": {
            "text/plain": [
              "<matplotlib.axes._subplots.AxesSubplot at 0x7fba386ad978>"
            ]
          },
          "metadata": {
            "tags": []
          },
          "execution_count": 26
        },
        {
          "output_type": "display_data",
          "data": {
            "image/png": "[encoded data removed]",
            "text/plain": [
              "<Figure size 504x504 with 1 Axes>"
            ]
          },
          "metadata": {
            "tags": []
          }
        }
      ]
    },
    {
      "cell_type": "code",
      "metadata": {
        "id": "qVH4u2zlXlLg",
        "outputId": "3ca7d41e-d256-4329-ee91-ccb6a2d233f9",
        "colab": {
          "base_uri": "https://localhost:8080/",
          "height": 411
        }
      },
      "source": [
        "fig = plt.figure()\n",
        "ax = fig.add_subplot(111, projection='3d')\n",
        "ax.scatter(df['price'],df['advertising'],df['pie_sales'],c='purple', marker='o', alpha=0.5)\n",
        "ax.set_xlabel('price')\n",
        "ax.set_ylabel('advertising')\n",
        "ax.set_zlabel('pie_sales')\n",
        "plt.show()"
      ],
      "execution_count": 28,
      "outputs": [
        {
          "output_type": "display_data",
          "data": {
            "image/png": "[encoded data removed]",
            "text/plain": [
              "<Figure size 504x504 with 1 Axes>"
            ]
          },
          "metadata": {
            "tags": []
          }
        }
      ]
    },
    {
      "cell_type": "code",
      "metadata": {
        "id": "0an-_KuMbJ8Y"
      },
      "source": [
        "X = df[['price','advertising']]\n",
        "Y = df['pie_sales']"
      ],
      "execution_count": 29,
      "outputs": []
    },
    {
      "cell_type": "code",
      "metadata": {
        "id": "lNUF_S8Abd1H",
        "outputId": "283dc68b-6669-424d-bbb5-9d6ba56c4d98",
        "colab": {
          "base_uri": "https://localhost:8080/",
          "height": 35
        }
      },
      "source": [
        "# with sklearn\n",
        "regr = linear_model.LinearRegression()\n",
        "regr.fit(X, Y)"
      ],
      "execution_count": 30,
      "outputs": [
        {
          "output_type": "execute_result",
          "data": {
            "text/plain": [
              "LinearRegression(copy_X=True, fit_intercept=True, n_jobs=None, normalize=False)"
            ]
          },
          "metadata": {
            "tags": []
          },
          "execution_count": 30
        }
      ]
    },
    {
      "cell_type": "code",
      "metadata": {
        "id": "LDqPtt9Zbg2g",
        "outputId": "b853e47a-6ea1-48d8-fcdb-298681a7b27f",
        "colab": {
          "base_uri": "https://localhost:8080/",
          "height": 87
        }
      },
      "source": [
        "print('Intercept: \\n', regr.intercept_)\n",
        "print('Coefficients: \\n', regr.coef_)"
      ],
      "execution_count": 31,
      "outputs": [
        {
          "output_type": "stream",
          "text": [
            "Intercept: \n",
            " 306.5261932837436\n",
            "Coefficients: \n",
            " [-24.97508952  74.13095749]\n"
          ],
          "name": "stdout"
        }
      ]
    },
    {
      "cell_type": "markdown",
      "metadata": {
        "id": "3FEuNFwddNEK"
      },
      "source": [
        "Pada persamaan analisis regresi linear berganda \n",
        "y = a + b1x1 + b2x2 + …… + bnxn, nilai intercept merupakan konstanta dan nilai coefficient merupakan nilai koefisien dari masing - masing variabel bebas\n",
        "\n",
        "y = 306.5261932837436 + (-24.97508952(x1)) + 74.13095749(x2)\n",
        "\n",
        "artinya:\n",
        "\n",
        "\n",
        "\n",
        "*   Jika nilai x1 dan x2 0, maka nilai y = 306.5261932837436 ; jika nilai \n",
        "\n",
        "\n",
        ">x1 dan x2 = 1 maka nilai y sebagai berikut\n",
        "\n",
        "\n",
        ">y = 306.5261932837436 + (-24.97508952(1)) + 74.13095749(1)\n",
        "\n",
        ">y = 355.6820612537436\n",
        "\n",
        ">Begitu seterusnya\n",
        "\n",
        "*   Koefisien variabel price (X1) sebesar -24.97508952; artinya jika variabel advertising nilainya tetap dan price mengalami kenaikan 1%, maka pie sales (y) akan mengalami penurunan sebesar -24.97508952. Koefisien bernilai negatif artinya terjadi hubungan negatif antara price dengan pie sales, semakin naik price maka semakin turun pie sales.\n",
        "\n",
        "*   Koefisien variabel advertising (X2) sebesar 74.13095749; artinya jika variabel price nilainya tetap dan advertising mengalami kenaikan 1%, maka pie sales (y) akan mengalami peningkatan sebesar 74.13095749. Koefisien bernilai positif artinya terjadi hubungan positif antara advertising dengan pie sales, semakin naik advertising maka semakin meningkat pie sales.\n",
        "\n",
        "\n",
        "\n",
        "\n"
      ]
    },
    {
      "cell_type": "code",
      "metadata": {
        "id": "CnkRLDkadkrK"
      },
      "source": [
        "# Visualizing Linear Regression 3D\n",
        "x_s, y_s = np.meshgrid(np.linspace(df.price.min(), df.price.max()),np.linspace(df.advertising.min(), df.advertising.max()))\n",
        "onlyX = pd.DataFrame({'price': x_s.ravel(), 'advertising': y_s.ravel()})\n",
        "fittedY=regr.predict(onlyX)\n",
        "fittedY=np.array(fittedY)"
      ],
      "execution_count": 33,
      "outputs": []
    },
    {
      "cell_type": "code",
      "metadata": {
        "id": "zo3qH31pk7OU",
        "outputId": "93948f73-4b84-4ac4-a310-8761d684040e",
        "colab": {
          "base_uri": "https://localhost:8080/",
          "height": 411
        }
      },
      "source": [
        "fig = plt.figure()\n",
        "ax = fig.add_subplot(111, projection='3d')\n",
        "ax.scatter(df['price'],df['advertising'],df['pie_sales'],c='red', marker='o', alpha=0.10)\n",
        "ax.plot_surface(x_s,y_s,fittedY.reshape(x_s.shape), color='b', alpha=0.5)\n",
        "ax.set_xlabel('price')\n",
        "ax.set_ylabel('advertising')\n",
        "ax.set_zlabel('pie_sales')\n",
        "ax.view_init(0, 45) \n",
        "plt.show()"
      ],
      "execution_count": 36,
      "outputs": [
        {
          "output_type": "display_data",
          "data": {
            "image/png": "[encoded data removed]",
            "text/plain": [
              "<Figure size 504x504 with 1 Axes>"
            ]
          },
          "metadata": {
            "tags": []
          }
        }
      ]
    },
    {
      "cell_type": "code",
      "metadata": {
        "id": "nJVHBLCBlEyA",
        "outputId": "f7f2b9b2-b4c2-4ae8-cfde-d5071ddd8e35",
        "colab": {
          "base_uri": "https://localhost:8080/",
          "height": 52
        }
      },
      "source": [
        "# prediction with sklearn\n",
        "new_price = 6.9\n",
        "new_advertising = 4.7\n",
        "print ('Predicted  Pie_sales: \\n', regr.predict([[new_price,new_advertising]]))"
      ],
      "execution_count": 37,
      "outputs": [
        {
          "output_type": "stream",
          "text": [
            "Predicted  Pie_sales: \n",
            " [482.61357581]\n"
          ],
          "name": "stdout"
        }
      ]
    },
    {
      "cell_type": "code",
      "metadata": {
        "id": "UX6H9iFklWUS"
      },
      "source": [
        "X = sm.add_constant(X) # adding a constant"
      ],
      "execution_count": 38,
      "outputs": []
    },
    {
      "cell_type": "code",
      "metadata": {
        "id": "csCJ89l7lboa",
        "outputId": "d3aac7c2-bf0e-402a-c87f-2d5e4091738c",
        "colab": {
          "base_uri": "https://localhost:8080/",
          "height": 468
        }
      },
      "source": [
        "model = sm.OLS(Y, X).fit()\n",
        "predictions = model.predict(X) \n",
        "\n",
        "print_model = model.summary()\n",
        "print(print_model)"
      ],
      "execution_count": 39,
      "outputs": [
        {
          "output_type": "stream",
          "text": [
            "                            OLS Regression Results                            \n",
            "==============================================================================\n",
            "Dep. Variable:              pie_sales   R-squared:                       0.521\n",
            "Model:                            OLS   Adj. R-squared:                  0.442\n",
            "Method:                 Least Squares   F-statistic:                     6.539\n",
            "Date:                Fri, 23 Oct 2020   Prob (F-statistic):             0.0120\n",
            "Time:                        13:11:41   Log-Likelihood:                -77.510\n",
            "No. Observations:                  15   AIC:                             161.0\n",
            "Df Residuals:                      12   BIC:                             163.1\n",
            "Df Model:                           2                                         \n",
            "Covariance Type:            nonrobust                                         \n",
            "===============================================================================\n",
            "                  coef    std err          t      P>|t|      [0.025      0.975]\n",
            "-------------------------------------------------------------------------------\n",
            "const         306.5262    114.254      2.683      0.020      57.588     555.464\n",
            "price         -24.9751     10.832     -2.306      0.040     -48.576      -1.374\n",
            "advertising    74.1310     25.967      2.855      0.014      17.553     130.709\n",
            "==============================================================================\n",
            "Omnibus:                        1.505   Durbin-Watson:                   1.683\n",
            "Prob(Omnibus):                  0.471   Jarque-Bera (JB):                0.937\n",
            "Skew:                           0.595   Prob(JB):                        0.626\n",
            "Kurtosis:                       2.709   Cond. No.                         72.2\n",
            "==============================================================================\n",
            "\n",
            "Warnings:\n",
            "[1] Standard Errors assume that the covariance matrix of the errors is correctly specified.\n"
          ],
          "name": "stdout"
        }
      ]
    },
    {
      "cell_type": "markdown",
      "metadata": {
        "id": "nN04iLe2l7Ee"
      },
      "source": [
        "\n",
        "\n",
        "1. Uji Parsial\n",
        "\n",
        "> Uji parsial digunakan untuk menguji parameter secara parsial dengan kata lain untuk mengetahui apakah variable bebas (X) berpengaruh secara signifikan (nyata) terhadap variable terikat (Y). Dari gambar didapat p-value konstanta sebesar 0.020, nilai price (x1) sebesar 0.040 dan nilai advertising (x2) sebesar 0.014.\n",
        "Berikut hipotesisnya:\n",
        "- Hipotesis\n",
        "       \n",
        "       H0 : βi = 0, (Tidak terdapat pengaruh secara signifikan antara X dengan Y)\n",
        "       H1 : βi ≠ 0, (Terdapat pengaruh secara signifikan antara X dengan Y)\n",
        "- Tingkat signifikasi\n",
        "          \n",
        "          ∝=5% = 0.05\n",
        "- Daerah kritis\n",
        "        \n",
        "        Jika p-value ≤ ∝ (0.05) → Tolak H0\n",
        "- Statistik uji\n",
        "         P-value :  = 0.020 dan  = 0.040 ; ∝= 0,05\n",
        "\n",
        "> Karena nilai p-value untuk β1 dan β2 <  ∝ maka tolak, Kesimpulannya, dengan tingkat kepercayaan 95% terdapat pengaruh secara signifikan antara variable price (x1) dan variabel advertising (x2) dengan variabel pie sales (y).\n",
        "\n",
        "2. Uji Normalitas\n",
        "\n",
        "> Uji Normalitaas adalah untuk melihat apakah nilai residual terdistribusi normal atau tidak. Model regresi yang baik adalah memiliki nilai residual yang terdistribusi normal. Disini kita menggunakan nilai prob Jaque Bera (JB) dari gambar output diatas sebesar 0.626. Dengan hipotesis sebagai berikut:\n",
        "- Menentukan Hipotesis\n",
        "\n",
        "        H0 : Residual berdistribusi normal\n",
        "        H1 : Residual tidak Berdistribusi Normal\n",
        "- Tingkat signifikansi\n",
        "         \n",
        "      ∝ = 5% (∝ = 0.05)\n",
        "- Statistik Uji\n",
        "        \n",
        "         p-value =  0.626\n",
        "- Daerah kritis\n",
        "      \n",
        "       Tolak H0 jika p-value < α\n",
        "\n",
        "> Keputusan\n",
        "Karena nilai p-value sama dengan 0.626, dimana nilai p-value > α yaitu 0.626 > 0,05 maka gagal tolak H0. Jadi, dengan tingkat kepercayaan 95% dapat disimpulkan bahwa residual berdistribusi normal.\n",
        "\n",
        "3. Uji Autokorelasi\n",
        "\n",
        "> Dianalisis autokorelasi ini jadi tidak boleh ada korelasi (non-autokorelasi) antara observasi dengan data observasi sebelumnya. Dapat dilihat dari gambar output diatas bahwa uji autokorelasi menggunakan output DW(Durbin-Watson) sebesar 1.683. \n",
        "    \n",
        "- Menentukan Hipotesis\n",
        "    \n",
        "     H0 : Tidak terdapat Autokorelasi\n",
        "\n",
        "     H1 : terdapat Autokorelasi\n",
        "    \n",
        "- Tingkat signifikansi\n",
        "    \n",
        "      ∝=5 (∝=0,05)\n",
        "- Menentukan daerah kritis\n",
        "     \n",
        "      Tolak H0 : jika 0 < DW < dl  atau 4 – dl < DW < 4\n",
        "      \n",
        "      Gagal tolak H0 : jika du < DW <4 – du\n",
        "      \n",
        "      Tidak ada keputusan : jika dl < DW < du atau 4 – du < DW < 4 – dl\n",
        "\n",
        "> Karena nilai DW  1.683 dengan du < DW <4 – du atau 0.9820 < DW <4 – 1.5386 maka interval daerah keputusannya yaitu  0.9820 < 1.683 < 2.4614 sehingga dapat dikatakan bahwa Tolak H0. Jadi, dengan tingkat signifikansi 5% dapat disimpulkan bahwa keputusan uji adalah tidak terdapat Autokorelasi.\n",
        "\n",
        "4. Analisis Determinasi (R-square)\n",
        "\n",
        "> Analisis determinasi pada regresi linear berganda berguna untuk mengetahui persentase sumbangan pengaruh variabel - variabel bebas secara bersama - sama terhadap variabel terikat. Jika nilai R-square 0 maka tidak ada persentase sumbangan pengaruh dari variabel bebas terhadap variabel terikat, begiru pula sebaliknya. Dari hasil di atas dapat dilihat bahwa hasil R-squarenya adalah 0,521 atau dengan kata lain persentase sumbangan pengaruh variabel bebas terhadap variabel terikatnya sebesar 52,1% dan sisanya dipengaruhi oleh variabel lain yang tidak ada dalam model regresi ini.\n",
        "\n",
        "5. Uji F\n",
        "\n",
        "> Uji ini dilakukan untuk mengetahui apakah variabel bebas secara bersama - sama berpengaruh signifikan terhadap variabel terikatnya. Uji ini juga dapat digunakan untuk mengetahui apakah model regresi dapat digunakan untuk memperkirakan variabel terikat atau tidak. Tahap dalam melakukan uji F adalah sebagai berikut :\n",
        "\n",
        "- Merumuskan Hipotesis\n",
        "\n",
        "      Ho : Tidak ada pengaruh secara signifikan antara price dan advertising secara bersama-sama terhadap pie sales.\n",
        "\n",
        "      Ha : Ada pengaruh secara signifikan antara price dan advertising secara bersama-sama terhadap pie sales.\n",
        "- Menentukan tingkat signifikansi\n",
        "\n",
        "      Tingkat signifikansi menggunakan a = 5% (signifikansi 5% atau 0,05 adalah ukuran standar yang sering digunakan dalam penelitian)\n",
        "- Menentukan F hitung\n",
        "\n",
        "      Berdasarkan tabel  diperoleh F hitung sebesar 6.539\n",
        "- Menentukan F tabel\n",
        "      Dengan menggunakan tingkat keyakinan 95%, a = 5%, df 1 (jumlah variabel–1)  = 2, dan df 2 (n-k-1) atau 15-2-1  = 12 (n adalah jumlah kasus dan k adalah jumlah variabel independen), hasil diperoleh untuk F tabel sebesar 3.885 (dicari di Ms Excel).\n",
        "- Kriteria pengujian\n",
        "      Ho diterima bila F hitung < F tabel\n",
        "      Ho ditolak bila F hitung > F tabel\n",
        "- Membandingkan F hitung dengan F tabel.\n",
        "      Nilai F hitung > F tabel (6.539 > 3,885), maka Ho ditolak.\n",
        "> Karena F hitung > F tabel (6.539 > 3.885), maka Ho ditolak, artinya ada pengaruh secara signifikan antara  price dan advertising secara bersama-sama terhadap terhadap pie sales. Jadi dari kasus ini dapat disimpulkan bahwa price dan advertising secara bersama-sama berpengaruh terhadap pie sales.\n",
        "\n",
        "5. Uji t\n",
        "\n",
        "> Uji ini dilakukan untuk mengetahui apakah dalam model regresi variabel bebas secara parsial berpengaruh signifikan terhadap variabel terikat. Tahap - tahap pengujian uji t sebagai berikut :\n",
        "\n",
        "**Pengujian Koefisien Regresi Variabel Price**\n",
        "- Menentukan Hipotesis\n",
        "      Ho : Secara parsial tidak ada pengaruh signifikan antara price dengan pie sales\n",
        "      Ha : Secara parsial ada pengaruh signifikan antara price dengan pie sales\n",
        "- Menentukan tingkat signifikansi\n",
        "      Tingkat signifikansi menggunakan a = 5%\n",
        "- Menentukan t hitung\n",
        "      Berdasarkan hasil tabel diperoleh t hitung sebesar -2.306\n",
        "- Menentukan t tabel\n",
        "      Tabel distribusi t dicari pada a = 5% : 2 = 2.5% (uji 2 sisi) dengan derajat kebebasan (df) n-k-1 atau  15-2-1  = 12 (n adalah jumlah kasus dan k adalah jumlah variabel independen). Dengan pengujian 2 sisi (signifikansi = 0.025) hasil diperoleh untuk t tabel sebesar -2.1788 dicari di Ms Excel\n",
        "- Kriteria Pengujian\n",
        "      Ho diterima jika -t tabel < t hitung < t tabel\n",
        "      Ho ditolak jika -t hitung < -t tabel atau t hitung > t tabel\n",
        "- Membandingkan thitung dengan t tabel\n",
        "      Nilai -t hitung < -t tabel (-2.306 < -2.1788) maka Ho ditolak\n",
        "> Kesimpulannya, karena nilai -t hitung < -t tabel (-2.306 < -2.1788) maka Ho diterima, artinya secara parsial ada pengaruh signifikan antara price dengan pie sales. Jadi dari kasus ini dapat disimpulkan bahwa secara parsial price berpengaruh positif terhadap pie sales.\n",
        "\n",
        "**Pengujian Koefisien regresi Variabel Advertising**\n",
        "- Menentukan Hipotesis\n",
        "      Ho : Secara parsial tidak ada pengaruh signifikan antara advertising dengan pie sales\n",
        "      Ha : Secara parsial ada pengaruh signifikan antara advertising dengan pie sales\n",
        "- Menentukan tingkat signifikansi\n",
        "      Tingkat signifikansi menggunakan a = 5%.\n",
        "- Menentukan t hitung\n",
        "      Berdasarkan tabel  diperoleh t hitung sebesar 2.855\n",
        "- Menentukan t tabel\n",
        "      Tabel distribusi t dicari pada a = 5% : 2 = 2.5% (uji 2 sisi) dengan derajat kebebasan (df) n-k-1 atau  15-2-1  = 12 (n adalah jumlah kasus dan k adalah jumlah variabel independen). Dengan pengujian 2 sisi (signifikansi = 0.025) hasil diperoleh untuk t tabel sebesar 2.1788.\n",
        "- Kriteria Pengujian\n",
        "      Ho diterima jika -t tabel £ t hitung £ t tabel\n",
        "      Ho ditolak jika -t hitung < -t tabel atau t hitung > t tabel\n",
        "- Membandingkan thitung dengan t tabel\n",
        "      Nilai t hitung > t tabel (2.855 > 2.1788) maka Ho ditolak\n",
        "> Kesimpulan, karena nilai t hitung > t tabel (2.855 > 2.1788) maka Ho ditolak, artinya secara parsial ada pengaruh signifikan antara advertising dengan pie sales. Jadi dari kasus ini dapat disimpulkan bahwa secara parsial advertising berpengaruh positif terhadap pie sales.\n",
        "\n",
        "\n"
      ]
    }
  ]
}